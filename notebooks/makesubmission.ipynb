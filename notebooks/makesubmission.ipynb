{
 "cells": [
  {
   "cell_type": "code",
   "execution_count": 2,
   "metadata": {},
   "outputs": [
    {
     "name": "stderr",
     "output_type": "stream",
     "text": [
      "d:\\Programs\\Anaconda\\envs\\yolov10\\lib\\site-packages\\tqdm\\auto.py:21: TqdmWarning: IProgress not found. Please update jupyter and ipywidgets. See https://ipywidgets.readthedocs.io/en/stable/user_install.html\n",
      "  from .autonotebook import tqdm as notebook_tqdm\n"
     ]
    }
   ],
   "source": [
    "from ultralytics import YOLOv10, RTDETR, YOLO\n",
    "import os\n",
    "import csv\n",
    "from pathlib import Path"
   ]
  },
  {
   "cell_type": "code",
   "execution_count": 3,
   "metadata": {},
   "outputs": [],
   "source": [
    "PATH_YOLOV10 = Path('yolov10-aug.pt')\n",
    "PATH_YOLOV8 = Path('yolov8-aug.pt')\n",
    "PATH_DETR = Path('detr-aug.pt')\n",
    "IMAGE_PATH = ..."
   ]
  },
  {
   "cell_type": "code",
   "execution_count": null,
   "metadata": {},
   "outputs": [],
   "source": [
    "model_yolov10 = YOLOv10(PATH_YOLOV10)\n",
    "model_yolov8 = YOLO(PATH_YOLOV8)\n",
    "model_DETR = RTDETR(PATH_DETR)\n",
    "model_yolov10.to('cuda')\n",
    "model_yolov8.to('cuda')\n",
    "model_DETR.to('cuda')"
   ]
  },
  {
   "cell_type": "code",
   "execution_count": 6,
   "metadata": {},
   "outputs": [],
   "source": [
    "def make_sample_submission(model, images_path:Path, conf, modelname):\n",
    "    header = ['filename', 'class_id', 'rel_x', 'rel_y', 'width', 'height']\n",
    "    arr = []\n",
    "\n",
    "    filename = f'submission_{modelname}_{conf}.csv'\n",
    "\n",
    "    results = model.predict(images_path, conf=conf, stream=True)\n",
    "    for image in results:\n",
    "        name = image.path.split('\\\\')[-1] if os.name == 'nt' else image.path.split('/')[-1]\n",
    "        for box in image.boxes:\n",
    "            label = int(box.cls.item())\n",
    "            rel_x, rel_y, width, height = box.xywhn[0].detach().cpu().numpy()\n",
    "            arr.append((name, label, rel_x, rel_y, width, height))\n",
    "        \n",
    "    \n",
    "    with open(filename, 'w', newline='') as csvfile:\n",
    "        writer = csv.writer(csvfile, delimiter=';')\n",
    "\n",
    "        # Write the header to the CSV file\n",
    "        writer.writerow(header)\n",
    "        for row in arr:\n",
    "            writer.writerow(row)"
   ]
  },
  {
   "cell_type": "code",
   "execution_count": null,
   "metadata": {},
   "outputs": [],
   "source": [
    "conf = 0.5 #For tests\n",
    "\n",
    "make_sample_submission(model_yolov10,IMAGE_PATH, conf, 'yolo10')\n",
    "make_sample_submission(model_yolov8,IMAGE_PATH, conf, 'yolo8')\n",
    "make_sample_submission(model_DETR,IMAGE_PATH, conf, 'detr') "
   ]
  }
 ],
 "metadata": {
  "kernelspec": {
   "display_name": "yolov10",
   "language": "python",
   "name": "python3"
  },
  "language_info": {
   "codemirror_mode": {
    "name": "ipython",
    "version": 3
   },
   "file_extension": ".py",
   "mimetype": "text/x-python",
   "name": "python",
   "nbconvert_exporter": "python",
   "pygments_lexer": "ipython3",
   "version": "3.9.19"
  }
 },
 "nbformat": 4,
 "nbformat_minor": 2
}
